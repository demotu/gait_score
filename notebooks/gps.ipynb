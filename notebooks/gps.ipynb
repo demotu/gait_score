{
 "cells": [
  {
   "cell_type": "markdown",
   "metadata": {
    "colab_type": "text",
    "id": "view-in-github"
   },
   "source": [
    "<a href=\"https://colab.research.google.com/github/demotu/gait_score/blob/main/notebooks/gps.ipynb\" target=\"_parent\"><img src=\"https://colab.research.google.com/assets/colab-badge.svg\" alt=\"Open In Colab\"/></a>"
   ]
  },
  {
   "cell_type": "markdown",
   "metadata": {
    "id": "XrJ0BdqHj-TS"
   },
   "source": [
    "# Project Gait Score Neuropathy (gait_score): GPS calculation"
   ]
  },
  {
   "cell_type": "markdown",
   "metadata": {
    "id": "CcSIHLVPj-Ta"
   },
   "source": [
    "## Python setup"
   ]
  },
  {
   "cell_type": "code",
   "execution_count": 1,
   "metadata": {
    "colab": {
     "base_uri": "https://localhost:8080/"
    },
    "id": "TOyCzD6-j-Tc",
    "outputId": "0523fee9-a2be-49f0-bc0e-132c7eaa10be"
   },
   "outputs": [
    {
     "name": "stdout",
     "output_type": "stream",
     "text": [
      "Python 3.12.7 | packaged by conda-forge | (main, Oct  4 2024, 16:05:46) [GCC 13.3.0] on linux\n",
      " numpy 2.1.2\n",
      " scipy 1.14.1\n",
      " pandas 2.2.3\n",
      "02/11/2024 01:09:00\n"
     ]
    }
   ],
   "source": [
    "#import libraries\n",
    "import sys, os\n",
    "from pathlib import Path  # file and directory paths in Python\n",
    "import glob  # Unix style pathname pattern expansion\n",
    "from datetime import datetime\n",
    "import numpy as np  # large, multi-dimensional numeric arrays and matrices\n",
    "import pandas as pd  # labelled tables with numeric and string data\n",
    "import matplotlib  # data visualization\n",
    "import matplotlib.pyplot as plt  # data visualization\n",
    "import seaborn as sns  # data visualization\n",
    "import xarray as xr  # labelled multi-dimensional arrays\n",
    "from tqdm.notebook import tqdm  # progress bar\n",
    "from IPython.display import display, Math, Latex  # IPython formatting\n",
    "import scipy as sp  # collection of mathematical algorithms and convenience functions built on NumPy\n",
    "\n",
    "print(f'Python {sys.version} on {sys.platform}', f' numpy {np.__version__}',\n",
    "      f' scipy {sp.__version__}', f' pandas {pd.__version__}',\n",
    "      datetime.now().strftime(\"%d/%m/%Y %H:%M:%S\"), sep='\\n')"
   ]
  },
  {
   "cell_type": "code",
   "execution_count": 2,
   "metadata": {
    "colab": {
     "base_uri": "https://localhost:8080/",
     "height": 0
    },
    "id": "NVZlT3MCj-Th",
    "outputId": "1e8f8dca-c797-4128-af06-2a930eea32cf"
   },
   "outputs": [
    {
     "data": {
      "text/html": [
       "<svg  width=\"550\" height=\"55\"><rect x=\"0\" y=\"0\" width=\"55\" height=\"55\" style=\"fill:#1f77b4;stroke-width:2;stroke:rgb(255,255,255)\"/><rect x=\"55\" y=\"0\" width=\"55\" height=\"55\" style=\"fill:#ff7f0e;stroke-width:2;stroke:rgb(255,255,255)\"/><rect x=\"110\" y=\"0\" width=\"55\" height=\"55\" style=\"fill:#2ca02c;stroke-width:2;stroke:rgb(255,255,255)\"/><rect x=\"165\" y=\"0\" width=\"55\" height=\"55\" style=\"fill:#d62728;stroke-width:2;stroke:rgb(255,255,255)\"/><rect x=\"220\" y=\"0\" width=\"55\" height=\"55\" style=\"fill:#9467bd;stroke-width:2;stroke:rgb(255,255,255)\"/><rect x=\"275\" y=\"0\" width=\"55\" height=\"55\" style=\"fill:#8c564b;stroke-width:2;stroke:rgb(255,255,255)\"/><rect x=\"330\" y=\"0\" width=\"55\" height=\"55\" style=\"fill:#e377c2;stroke-width:2;stroke:rgb(255,255,255)\"/><rect x=\"385\" y=\"0\" width=\"55\" height=\"55\" style=\"fill:#7f7f7f;stroke-width:2;stroke:rgb(255,255,255)\"/><rect x=\"440\" y=\"0\" width=\"55\" height=\"55\" style=\"fill:#bcbd22;stroke-width:2;stroke:rgb(255,255,255)\"/><rect x=\"495\" y=\"0\" width=\"55\" height=\"55\" style=\"fill:#17becf;stroke-width:2;stroke:rgb(255,255,255)\"/></svg>"
      ],
      "text/plain": [
       "[(0.12156862745098039, 0.4666666666666667, 0.7058823529411765),\n",
       " (1.0, 0.4980392156862745, 0.054901960784313725),\n",
       " (0.17254901960784313, 0.6274509803921569, 0.17254901960784313),\n",
       " (0.8392156862745098, 0.15294117647058825, 0.1568627450980392),\n",
       " (0.5803921568627451, 0.403921568627451, 0.7411764705882353),\n",
       " (0.5490196078431373, 0.33725490196078434, 0.29411764705882354),\n",
       " (0.8901960784313725, 0.4666666666666667, 0.7607843137254902),\n",
       " (0.4980392156862745, 0.4980392156862745, 0.4980392156862745),\n",
       " (0.7372549019607844, 0.7411764705882353, 0.13333333333333333),\n",
       " (0.09019607843137255, 0.7450980392156863, 0.8117647058823529)]"
      ]
     },
     "metadata": {},
     "output_type": "display_data"
    }
   ],
   "source": [
    "# Environment configuration\n",
    "sns.set_context('notebook', font_scale=1, rc={\"lines.linewidth\": 2})\n",
    "sns.set_style('whitegrid')\n",
    "colors = sns.color_palette()\n",
    "display(colors)\n",
    "style = [{'selector': 'th', 'props': [('text-align', 'left')]},\n",
    "         {'selector': 'caption', 'props': [('font-weight', 'bold'), ('color', 'blue'), ('font-size', '120%')]}]\n",
    "xr.set_options(keep_attrs=True)\n",
    "#pd.set_option('display.max_rows', 500)\n",
    "pd.set_option('display.max_colwidth', None)\n",
    "\n",
    "variable = 'Angle'\n",
    "# angle convention\n",
    "planes  = ['Sagittal', 'Frontal', 'Transverse']\n",
    "labels_gps = np.array(['Pelvic Tilt', 'Pelvic Obliquity', 'Pelvic Rotation',\n",
    "                       'Hip Flexion', 'Hip Adduction', 'Hip Rotation',\n",
    "                       'Knee Flexion', 'Ankle Dorsiflexion', 'Foot Progression', 'GPS'])"
   ]
  },
  {
   "cell_type": "markdown",
   "metadata": {
    "id": "dAjNfnLwj-Tj"
   },
   "source": [
    "## Helping functions"
   ]
  },
  {
   "cell_type": "code",
   "execution_count": 3,
   "metadata": {
    "ExecuteTime": {
     "end_time": "2022-05-12T21:23:51.442066Z",
     "start_time": "2022-05-12T21:23:51.326239Z"
    },
    "code_folding": [
     84,
     168,
     253,
     392,
     463,
     513
    ],
    "id": "qI-4Jc6yj-Tk"
   },
   "outputs": [],
   "source": [
    "def read_data(path2, fname, variable=variable):\n",
    "    if os.getenv(\"COLAB_RELEASE_TAG\"):\n",
    "        url = f'https://raw.githubusercontent.com/demotu/gait_score/refs/heads/main/data/metadata_{fname}.csv'\n",
    "        print(f'Loading data from {url}')\n",
    "        metadata = pd.read_csv(url, sep=',', header=0, index_col=0, dtype={'Assessment':'str'})\n",
    "    else:\n",
    "        metadata = pd.read_csv(path2 /  f'metadata_{fname}.csv', sep=',', header=0, index_col=0, dtype={'Assessment':'str'})\n",
    "    if os.getenv(\"COLAB_RELEASE_TAG\"):\n",
    "        url = f'https://github.com/demotu/gait_score/raw/refs/heads/main/data/{variable}_{fname}.nc'\n",
    "        #print(f'Loading data from {url}')\n",
    "        !wget {url}\n",
    "        da = xr.open_dataarray(f'{variable}_{path2.name}.nc')\n",
    "    else:\n",
    "        da = xr.open_dataarray(path2 / f'{variable}_{fname}.nc')    \n",
    "    return metadata, da\n",
    "\n",
    "\n",
    "def gps_calc(da2, metadata2, labels_gps):\n",
    "    \"\"\"\n",
    "    \"\"\"\n",
    "    subjects = metadata2['Subject'].unique()\n",
    "    NS = subjects.size\n",
    "    time = da2['Time'].values\n",
    "    gvs = np.full((NS, labels_gps.size), np.nan)\n",
    "    for s, subject in enumerate(subjects):\n",
    "        x = da2.sel(Subject=subject).values.reshape(time.size, 9)\n",
    "        gvs[s, :-1] = RMSD(x, ref_data.values)\n",
    "    \n",
    "    gvs[:, -1] = np.sqrt(np.mean(gvs[:, :-1]**2, axis=1))\n",
    "    gvs = pd.DataFrame(data=gvs, index=subjects, columns=labels_gps)\n",
    "    #gvs_m = np.sqrt(np.mean(gvs**2, axis=0))\n",
    "    #gvs_std = np.sqrt(np.std(gvs**2, axis=0, ddof=1))\n",
    "    gvs_m = np.percentile(gvs, 50, axis=0)\n",
    "    gvs_std = np.percentile(gvs, [25, 75], axis=0)\n",
    "\n",
    "    return gvs, gvs_m, gvs_std\n",
    "    \n",
    "    \n",
    "def plot_gps(gvs, gvs_m, gvs_std, metadata2, path2, hist=True, MAP=True):\n",
    "    \"\"\"\n",
    "    \"\"\"\n",
    "    subjects = metadata2['Subject'].unique()\n",
    "    NS = subjects.size    \n",
    "    if hist:\n",
    "        axs = gvs.hist(layout=(2, 5), figsize=(12, 5))\n",
    "        for ax in axs[:, 0]:\n",
    "            ax.set_ylabel('Frequency')\n",
    "        for ax in axs[1, :]:\n",
    "            ax.set_xlabel('RMS difference ($^o$)')\n",
    "        plt.suptitle(f'Histograms for GVS and GPS values ({NS} subjects)')\n",
    "        plt.tight_layout()\n",
    "        plt.show()\n",
    "    if MAP:\n",
    "        fig, axs = plt.subplots(1, 1, figsize=(6, 4))\n",
    "        x = [1, 2, 3, 4, 5, 6, 7, 8, 9, 11]\n",
    "        axs.bar(x=x, height=gvs_m, yerr=gvs_std, width=.8, edgecolor=None, capsize=5)\n",
    "        axs.set_ylabel('RMS difference ($^o$)')\n",
    "        axs.set_xlabel('')\n",
    "        axs.xaxis.set_ticks(x)\n",
    "        axs.set_xticklabels(gvs.columns.values, rotation=45, ha='right')\n",
    "        axs.grid(True)\n",
    "        plt.suptitle(f'Movement analysis profile ({NS} subjects)')\n",
    "        plt.tight_layout()\n",
    "        plt.show()   \n"
   ]
  },
  {
   "cell_type": "markdown",
   "metadata": {
    "id": "2oAb3XX-bJwu"
   },
   "source": [
    "## The Gait Proﬁle Score (GPS)\n",
    "\n",
    "Baker et al. (2009) proposed the Gait Proﬁle Score (GPS) as an index of overall gait pathology.  \n",
    "To calculate the GPS, first the Gait Variable Score (GVS) is determined as the RMS difference between a gait variable of a subject and the average of this gait variable for a sample with no gait pathology (reference).  \n",
    "The Gait Proﬁle Score (GPS) is the RMS average of all GVS values.  \n",
    "The Movement Analysis Proﬁle (MAP) is a plot with all GVS values and the GPS value of the subject and of the reference sample.  \n",
    "Baker et al. suggested nine angular variables of gait for using in the GPS calculation: Pelvic tilt, obliquity and rotation, Hip flexion, abduction and rotation, knee flexion, Ankle dorsiflexion and Foot progression.  \n",
    "Baker et al. also suggested to calculate the GVS of the angles for both sides (left and right) with the exception of the pelvic angles, which usualy have the same values for both sides in gait analysis.\n",
    "\n",
    "### Root mean square (RMS) and RMS deviation (RMSD)\n",
    "\n",
    "The root mean square (RMS) of a set of values (sample) is the square root of the arithmetic mean of the squares of the sample:\n",
    "\n",
    "$$ \\mathrm{RMS} = \\sqrt{ \\sum_{i=1}^N \\frac{x_i^2}{N} } $$\n",
    "\n",
    "The root-mean-square deviation (RMSD) or root mean square error (RMSE) is the square root of the average of squared deviations between two sets of values (samples) $x$ and $y$ of size $N$:\n",
    "\n",
    "$$ \\mathrm{RMSD} = \\sqrt{ \\sum_{i=1}^N \\frac{(y_i-x_i)^2}{N} } $$\n"
   ]
  },
  {
   "cell_type": "code",
   "execution_count": 4,
   "metadata": {
    "id": "xPipG-XPbJwu"
   },
   "outputs": [],
   "source": [
    "RMSD = lambda x, y: np.sqrt(np.nanmean((y - x)**2, axis=0))  #  x and y must be arrays"
   ]
  },
  {
   "cell_type": "markdown",
   "metadata": {
    "id": "zQ_uerPjj-Ts"
   },
   "source": [
    "### Reference data"
   ]
  },
  {
   "cell_type": "code",
   "execution_count": 5,
   "metadata": {
    "id": "ztqgKbShbJwu"
   },
   "outputs": [],
   "source": [
    "# reference data from Claudiane\n",
    "if os.getenv(\"COLAB_RELEASE_TAG\"):\n",
    "    url = 'https://raw.githubusercontent.com/demotu/gait_score/refs/heads/main/data/Claudiane/angles_ref_gp19b.csv'\n",
    "    ref_data = pd.read_csv(url, index_col=0)\n",
    "else:\n",
    "    ref_data = pd.read_csv('./../data/Claudiane/angles_ref_gp19b.csv', index_col=0)"
   ]
  },
  {
   "cell_type": "markdown",
   "metadata": {
    "id": "5mNHDzpdbJwu"
   },
   "source": [
    "### Project ERJ"
   ]
  },
  {
   "cell_type": "code",
   "execution_count": 6,
   "metadata": {},
   "outputs": [
    {
     "data": {
      "text/html": [
       "<div><svg style=\"position: absolute; width: 0; height: 0; overflow: hidden\">\n",
       "<defs>\n",
       "<symbol id=\"icon-database\" viewBox=\"0 0 32 32\">\n",
       "<path d=\"M16 0c-8.837 0-16 2.239-16 5v4c0 2.761 7.163 5 16 5s16-2.239 16-5v-4c0-2.761-7.163-5-16-5z\"></path>\n",
       "<path d=\"M16 17c-8.837 0-16-2.239-16-5v6c0 2.761 7.163 5 16 5s16-2.239 16-5v-6c0 2.761-7.163 5-16 5z\"></path>\n",
       "<path d=\"M16 26c-8.837 0-16-2.239-16-5v6c0 2.761 7.163 5 16 5s16-2.239 16-5v-6c0 2.761-7.163 5-16 5z\"></path>\n",
       "</symbol>\n",
       "<symbol id=\"icon-file-text2\" viewBox=\"0 0 32 32\">\n",
       "<path d=\"M28.681 7.159c-0.694-0.947-1.662-2.053-2.724-3.116s-2.169-2.030-3.116-2.724c-1.612-1.182-2.393-1.319-2.841-1.319h-15.5c-1.378 0-2.5 1.121-2.5 2.5v27c0 1.378 1.122 2.5 2.5 2.5h23c1.378 0 2.5-1.122 2.5-2.5v-19.5c0-0.448-0.137-1.23-1.319-2.841zM24.543 5.457c0.959 0.959 1.712 1.825 2.268 2.543h-4.811v-4.811c0.718 0.556 1.584 1.309 2.543 2.268zM28 29.5c0 0.271-0.229 0.5-0.5 0.5h-23c-0.271 0-0.5-0.229-0.5-0.5v-27c0-0.271 0.229-0.5 0.5-0.5 0 0 15.499-0 15.5 0v7c0 0.552 0.448 1 1 1h7v19.5z\"></path>\n",
       "<path d=\"M23 26h-14c-0.552 0-1-0.448-1-1s0.448-1 1-1h14c0.552 0 1 0.448 1 1s-0.448 1-1 1z\"></path>\n",
       "<path d=\"M23 22h-14c-0.552 0-1-0.448-1-1s0.448-1 1-1h14c0.552 0 1 0.448 1 1s-0.448 1-1 1z\"></path>\n",
       "<path d=\"M23 18h-14c-0.552 0-1-0.448-1-1s0.448-1 1-1h14c0.552 0 1 0.448 1 1s-0.448 1-1 1z\"></path>\n",
       "</symbol>\n",
       "</defs>\n",
       "</svg>\n",
       "<style>/* CSS stylesheet for displaying xarray objects in jupyterlab.\n",
       " *\n",
       " */\n",
       "\n",
       ":root {\n",
       "  --xr-font-color0: var(--jp-content-font-color0, rgba(0, 0, 0, 1));\n",
       "  --xr-font-color2: var(--jp-content-font-color2, rgba(0, 0, 0, 0.54));\n",
       "  --xr-font-color3: var(--jp-content-font-color3, rgba(0, 0, 0, 0.38));\n",
       "  --xr-border-color: var(--jp-border-color2, #e0e0e0);\n",
       "  --xr-disabled-color: var(--jp-layout-color3, #bdbdbd);\n",
       "  --xr-background-color: var(--jp-layout-color0, white);\n",
       "  --xr-background-color-row-even: var(--jp-layout-color1, white);\n",
       "  --xr-background-color-row-odd: var(--jp-layout-color2, #eeeeee);\n",
       "}\n",
       "\n",
       "html[theme=dark],\n",
       "html[data-theme=dark],\n",
       "body[data-theme=dark],\n",
       "body.vscode-dark {\n",
       "  --xr-font-color0: rgba(255, 255, 255, 1);\n",
       "  --xr-font-color2: rgba(255, 255, 255, 0.54);\n",
       "  --xr-font-color3: rgba(255, 255, 255, 0.38);\n",
       "  --xr-border-color: #1F1F1F;\n",
       "  --xr-disabled-color: #515151;\n",
       "  --xr-background-color: #111111;\n",
       "  --xr-background-color-row-even: #111111;\n",
       "  --xr-background-color-row-odd: #313131;\n",
       "}\n",
       "\n",
       ".xr-wrap {\n",
       "  display: block !important;\n",
       "  min-width: 300px;\n",
       "  max-width: 700px;\n",
       "}\n",
       "\n",
       ".xr-text-repr-fallback {\n",
       "  /* fallback to plain text repr when CSS is not injected (untrusted notebook) */\n",
       "  display: none;\n",
       "}\n",
       "\n",
       ".xr-header {\n",
       "  padding-top: 6px;\n",
       "  padding-bottom: 6px;\n",
       "  margin-bottom: 4px;\n",
       "  border-bottom: solid 1px var(--xr-border-color);\n",
       "}\n",
       "\n",
       ".xr-header > div,\n",
       ".xr-header > ul {\n",
       "  display: inline;\n",
       "  margin-top: 0;\n",
       "  margin-bottom: 0;\n",
       "}\n",
       "\n",
       ".xr-obj-type,\n",
       ".xr-array-name {\n",
       "  margin-left: 2px;\n",
       "  margin-right: 10px;\n",
       "}\n",
       "\n",
       ".xr-obj-type {\n",
       "  color: var(--xr-font-color2);\n",
       "}\n",
       "\n",
       ".xr-sections {\n",
       "  padding-left: 0 !important;\n",
       "  display: grid;\n",
       "  grid-template-columns: 150px auto auto 1fr 0 20px 0 20px;\n",
       "}\n",
       "\n",
       ".xr-section-item {\n",
       "  display: contents;\n",
       "}\n",
       "\n",
       ".xr-section-item input {\n",
       "  display: inline-block;\n",
       "  opacity: 0;\n",
       "}\n",
       "\n",
       ".xr-section-item input + label {\n",
       "  color: var(--xr-disabled-color);\n",
       "}\n",
       "\n",
       ".xr-section-item input:enabled + label {\n",
       "  cursor: pointer;\n",
       "  color: var(--xr-font-color2);\n",
       "}\n",
       "\n",
       ".xr-section-item input:focus + label {\n",
       "  border: 2px solid var(--xr-font-color0);\n",
       "}\n",
       "\n",
       ".xr-section-item input:enabled + label:hover {\n",
       "  color: var(--xr-font-color0);\n",
       "}\n",
       "\n",
       ".xr-section-summary {\n",
       "  grid-column: 1;\n",
       "  color: var(--xr-font-color2);\n",
       "  font-weight: 500;\n",
       "}\n",
       "\n",
       ".xr-section-summary > span {\n",
       "  display: inline-block;\n",
       "  padding-left: 0.5em;\n",
       "}\n",
       "\n",
       ".xr-section-summary-in:disabled + label {\n",
       "  color: var(--xr-font-color2);\n",
       "}\n",
       "\n",
       ".xr-section-summary-in + label:before {\n",
       "  display: inline-block;\n",
       "  content: '►';\n",
       "  font-size: 11px;\n",
       "  width: 15px;\n",
       "  text-align: center;\n",
       "}\n",
       "\n",
       ".xr-section-summary-in:disabled + label:before {\n",
       "  color: var(--xr-disabled-color);\n",
       "}\n",
       "\n",
       ".xr-section-summary-in:checked + label:before {\n",
       "  content: '▼';\n",
       "}\n",
       "\n",
       ".xr-section-summary-in:checked + label > span {\n",
       "  display: none;\n",
       "}\n",
       "\n",
       ".xr-section-summary,\n",
       ".xr-section-inline-details {\n",
       "  padding-top: 4px;\n",
       "  padding-bottom: 4px;\n",
       "}\n",
       "\n",
       ".xr-section-inline-details {\n",
       "  grid-column: 2 / -1;\n",
       "}\n",
       "\n",
       ".xr-section-details {\n",
       "  display: none;\n",
       "  grid-column: 1 / -1;\n",
       "  margin-bottom: 5px;\n",
       "}\n",
       "\n",
       ".xr-section-summary-in:checked ~ .xr-section-details {\n",
       "  display: contents;\n",
       "}\n",
       "\n",
       ".xr-array-wrap {\n",
       "  grid-column: 1 / -1;\n",
       "  display: grid;\n",
       "  grid-template-columns: 20px auto;\n",
       "}\n",
       "\n",
       ".xr-array-wrap > label {\n",
       "  grid-column: 1;\n",
       "  vertical-align: top;\n",
       "}\n",
       "\n",
       ".xr-preview {\n",
       "  color: var(--xr-font-color3);\n",
       "}\n",
       "\n",
       ".xr-array-preview,\n",
       ".xr-array-data {\n",
       "  padding: 0 5px !important;\n",
       "  grid-column: 2;\n",
       "}\n",
       "\n",
       ".xr-array-data,\n",
       ".xr-array-in:checked ~ .xr-array-preview {\n",
       "  display: none;\n",
       "}\n",
       "\n",
       ".xr-array-in:checked ~ .xr-array-data,\n",
       ".xr-array-preview {\n",
       "  display: inline-block;\n",
       "}\n",
       "\n",
       ".xr-dim-list {\n",
       "  display: inline-block !important;\n",
       "  list-style: none;\n",
       "  padding: 0 !important;\n",
       "  margin: 0;\n",
       "}\n",
       "\n",
       ".xr-dim-list li {\n",
       "  display: inline-block;\n",
       "  padding: 0;\n",
       "  margin: 0;\n",
       "}\n",
       "\n",
       ".xr-dim-list:before {\n",
       "  content: '(';\n",
       "}\n",
       "\n",
       ".xr-dim-list:after {\n",
       "  content: ')';\n",
       "}\n",
       "\n",
       ".xr-dim-list li:not(:last-child):after {\n",
       "  content: ',';\n",
       "  padding-right: 5px;\n",
       "}\n",
       "\n",
       ".xr-has-index {\n",
       "  font-weight: bold;\n",
       "}\n",
       "\n",
       ".xr-var-list,\n",
       ".xr-var-item {\n",
       "  display: contents;\n",
       "}\n",
       "\n",
       ".xr-var-item > div,\n",
       ".xr-var-item label,\n",
       ".xr-var-item > .xr-var-name span {\n",
       "  background-color: var(--xr-background-color-row-even);\n",
       "  margin-bottom: 0;\n",
       "}\n",
       "\n",
       ".xr-var-item > .xr-var-name:hover span {\n",
       "  padding-right: 5px;\n",
       "}\n",
       "\n",
       ".xr-var-list > li:nth-child(odd) > div,\n",
       ".xr-var-list > li:nth-child(odd) > label,\n",
       ".xr-var-list > li:nth-child(odd) > .xr-var-name span {\n",
       "  background-color: var(--xr-background-color-row-odd);\n",
       "}\n",
       "\n",
       ".xr-var-name {\n",
       "  grid-column: 1;\n",
       "}\n",
       "\n",
       ".xr-var-dims {\n",
       "  grid-column: 2;\n",
       "}\n",
       "\n",
       ".xr-var-dtype {\n",
       "  grid-column: 3;\n",
       "  text-align: right;\n",
       "  color: var(--xr-font-color2);\n",
       "}\n",
       "\n",
       ".xr-var-preview {\n",
       "  grid-column: 4;\n",
       "}\n",
       "\n",
       ".xr-index-preview {\n",
       "  grid-column: 2 / 5;\n",
       "  color: var(--xr-font-color2);\n",
       "}\n",
       "\n",
       ".xr-var-name,\n",
       ".xr-var-dims,\n",
       ".xr-var-dtype,\n",
       ".xr-preview,\n",
       ".xr-attrs dt {\n",
       "  white-space: nowrap;\n",
       "  overflow: hidden;\n",
       "  text-overflow: ellipsis;\n",
       "  padding-right: 10px;\n",
       "}\n",
       "\n",
       ".xr-var-name:hover,\n",
       ".xr-var-dims:hover,\n",
       ".xr-var-dtype:hover,\n",
       ".xr-attrs dt:hover {\n",
       "  overflow: visible;\n",
       "  width: auto;\n",
       "  z-index: 1;\n",
       "}\n",
       "\n",
       ".xr-var-attrs,\n",
       ".xr-var-data,\n",
       ".xr-index-data {\n",
       "  display: none;\n",
       "  background-color: var(--xr-background-color) !important;\n",
       "  padding-bottom: 5px !important;\n",
       "}\n",
       "\n",
       ".xr-var-attrs-in:checked ~ .xr-var-attrs,\n",
       ".xr-var-data-in:checked ~ .xr-var-data,\n",
       ".xr-index-data-in:checked ~ .xr-index-data {\n",
       "  display: block;\n",
       "}\n",
       "\n",
       ".xr-var-data > table {\n",
       "  float: right;\n",
       "}\n",
       "\n",
       ".xr-var-name span,\n",
       ".xr-var-data,\n",
       ".xr-index-name div,\n",
       ".xr-index-data,\n",
       ".xr-attrs {\n",
       "  padding-left: 25px !important;\n",
       "}\n",
       "\n",
       ".xr-attrs,\n",
       ".xr-var-attrs,\n",
       ".xr-var-data,\n",
       ".xr-index-data {\n",
       "  grid-column: 1 / -1;\n",
       "}\n",
       "\n",
       "dl.xr-attrs {\n",
       "  padding: 0;\n",
       "  margin: 0;\n",
       "  display: grid;\n",
       "  grid-template-columns: 125px auto;\n",
       "}\n",
       "\n",
       ".xr-attrs dt,\n",
       ".xr-attrs dd {\n",
       "  padding: 0;\n",
       "  margin: 0;\n",
       "  float: left;\n",
       "  padding-right: 10px;\n",
       "  width: auto;\n",
       "}\n",
       "\n",
       ".xr-attrs dt {\n",
       "  font-weight: normal;\n",
       "  grid-column: 1;\n",
       "}\n",
       "\n",
       ".xr-attrs dt:hover span {\n",
       "  display: inline-block;\n",
       "  background: var(--xr-background-color);\n",
       "  padding-right: 10px;\n",
       "}\n",
       "\n",
       ".xr-attrs dd {\n",
       "  grid-column: 2;\n",
       "  white-space: pre-wrap;\n",
       "  word-break: break-all;\n",
       "}\n",
       "\n",
       ".xr-icon-database,\n",
       ".xr-icon-file-text2,\n",
       ".xr-no-icon {\n",
       "  display: inline-block;\n",
       "  vertical-align: middle;\n",
       "  width: 1em;\n",
       "  height: 1.5em !important;\n",
       "  stroke-width: 0;\n",
       "  stroke: currentColor;\n",
       "  fill: currentColor;\n",
       "}\n",
       "</style><pre class='xr-text-repr-fallback'>&lt;xarray.DataArray &#x27;Angle&#x27; (Time: 51, Joint: 3, Axis: 3, Trial: 10, Subject: 105)&gt; Size: 4MB\n",
       "[481950 values with dtype=float64]\n",
       "Coordinates:\n",
       "  * Subject  (Subject) object 840B &#x27;C02&#x27; &#x27;C04&#x27; &#x27;C06&#x27; &#x27;C07&#x27; ... &#x27;S68&#x27; &#x27;S70&#x27; &#x27;S71&#x27;\n",
       "  * Time     (Time) float64 408B 0.0 2.0 4.0 6.0 8.0 ... 94.0 96.0 98.0 100.0\n",
       "  * Trial    (Trial) int32 40B 0 1 2 3 4 5 6 7 8 9\n",
       "  * Joint    (Joint) object 24B &#x27;Pelvis&#x27; &#x27;Hip&#x27; &#x27;Knee&#x27;\n",
       "  * Axis     (Axis) object 24B &#x27;ML&#x27; &#x27;AP&#x27; &#x27;VT&#x27;\n",
       "Attributes:\n",
       "    units:    deg</pre><div class='xr-wrap' style='display:none'><div class='xr-header'><div class='xr-obj-type'>xarray.DataArray</div><div class='xr-array-name'>'Angle'</div><ul class='xr-dim-list'><li><span class='xr-has-index'>Time</span>: 51</li><li><span class='xr-has-index'>Joint</span>: 3</li><li><span class='xr-has-index'>Axis</span>: 3</li><li><span class='xr-has-index'>Trial</span>: 10</li><li><span class='xr-has-index'>Subject</span>: 105</li></ul></div><ul class='xr-sections'><li class='xr-section-item'><div class='xr-array-wrap'><input id='section-cadb3351-e4fc-483d-8cb6-7bb36238f439' class='xr-array-in' type='checkbox' checked><label for='section-cadb3351-e4fc-483d-8cb6-7bb36238f439' title='Show/hide data repr'><svg class='icon xr-icon-database'><use xlink:href='#icon-database'></use></svg></label><div class='xr-array-preview xr-preview'><span>...</span></div><div class='xr-array-data'><pre>[481950 values with dtype=float64]</pre></div></div></li><li class='xr-section-item'><input id='section-300f2d09-ce3d-446e-adb1-cdbbdc6eae1b' class='xr-section-summary-in' type='checkbox'  checked><label for='section-300f2d09-ce3d-446e-adb1-cdbbdc6eae1b' class='xr-section-summary' >Coordinates: <span>(5)</span></label><div class='xr-section-inline-details'></div><div class='xr-section-details'><ul class='xr-var-list'><li class='xr-var-item'><div class='xr-var-name'><span class='xr-has-index'>Subject</span></div><div class='xr-var-dims'>(Subject)</div><div class='xr-var-dtype'>object</div><div class='xr-var-preview xr-preview'>&#x27;C02&#x27; &#x27;C04&#x27; &#x27;C06&#x27; ... &#x27;S70&#x27; &#x27;S71&#x27;</div><input id='attrs-a790036c-46c7-4ecf-a8c2-e054801599c4' class='xr-var-attrs-in' type='checkbox' disabled><label for='attrs-a790036c-46c7-4ecf-a8c2-e054801599c4' title='Show/Hide attributes'><svg class='icon xr-icon-file-text2'><use xlink:href='#icon-file-text2'></use></svg></label><input id='data-6cecbc08-b304-4eec-9984-448f72307c7e' class='xr-var-data-in' type='checkbox'><label for='data-6cecbc08-b304-4eec-9984-448f72307c7e' title='Show/Hide data repr'><svg class='icon xr-icon-database'><use xlink:href='#icon-database'></use></svg></label><div class='xr-var-attrs'><dl class='xr-attrs'></dl></div><div class='xr-var-data'><pre>array([&#x27;C02&#x27;, &#x27;C04&#x27;, &#x27;C06&#x27;, &#x27;C07&#x27;, &#x27;C11&#x27;, &#x27;C12&#x27;, &#x27;C14&#x27;, &#x27;C15&#x27;, &#x27;C16&#x27;, &#x27;C23&#x27;,\n",
       "       &#x27;C24&#x27;, &#x27;C27&#x27;, &#x27;C31&#x27;, &#x27;C33&#x27;, &#x27;C45&#x27;, &#x27;C47&#x27;, &#x27;C48&#x27;, &#x27;C50&#x27;, &#x27;C52&#x27;, &#x27;C53&#x27;,\n",
       "       &#x27;C56&#x27;, &#x27;C57&#x27;, &#x27;C58&#x27;, &#x27;C60&#x27;, &#x27;C01&#x27;, &#x27;C05&#x27;, &#x27;C08&#x27;, &#x27;C09&#x27;, &#x27;C10&#x27;, &#x27;C13&#x27;,\n",
       "       &#x27;C17&#x27;, &#x27;C18&#x27;, &#x27;C20&#x27;, &#x27;C21&#x27;, &#x27;C25&#x27;, &#x27;C26&#x27;, &#x27;C28&#x27;, &#x27;C29&#x27;, &#x27;C30&#x27;, &#x27;C32&#x27;,\n",
       "       &#x27;C34&#x27;, &#x27;C35&#x27;, &#x27;C38&#x27;, &#x27;C43&#x27;, &#x27;C44&#x27;, &#x27;C46&#x27;, &#x27;C49&#x27;, &#x27;C51&#x27;, &#x27;C54&#x27;, &#x27;C55&#x27;,\n",
       "       &#x27;S16&#x27;, &#x27;S22&#x27;, &#x27;S23&#x27;, &#x27;S24&#x27;, &#x27;S26&#x27;, &#x27;S29&#x27;, &#x27;S34&#x27;, &#x27;S35&#x27;, &#x27;S38&#x27;, &#x27;S40&#x27;,\n",
       "       &#x27;S41&#x27;, &#x27;S45&#x27;, &#x27;S46&#x27;, &#x27;S49&#x27;, &#x27;S52&#x27;, &#x27;S54&#x27;, &#x27;S55&#x27;, &#x27;S57&#x27;, &#x27;S61&#x27;, &#x27;S62&#x27;,\n",
       "       &#x27;S63&#x27;, &#x27;S64&#x27;, &#x27;S66&#x27;, &#x27;S69&#x27;, &#x27;S72&#x27;, &#x27;S73&#x27;, &#x27;S74&#x27;, &#x27;S75&#x27;, &#x27;S02&#x27;, &#x27;S04&#x27;,\n",
       "       &#x27;S07&#x27;, &#x27;S17&#x27;, &#x27;S19&#x27;, &#x27;S20&#x27;, &#x27;S21&#x27;, &#x27;S28&#x27;, &#x27;S30&#x27;, &#x27;S31&#x27;, &#x27;S33&#x27;, &#x27;S37&#x27;,\n",
       "       &#x27;S39&#x27;, &#x27;S43&#x27;, &#x27;S44&#x27;, &#x27;S47&#x27;, &#x27;S50&#x27;, &#x27;S51&#x27;, &#x27;S53&#x27;, &#x27;S56&#x27;, &#x27;S58&#x27;, &#x27;S59&#x27;,\n",
       "       &#x27;S60&#x27;, &#x27;S65&#x27;, &#x27;S68&#x27;, &#x27;S70&#x27;, &#x27;S71&#x27;], dtype=object)</pre></div></li><li class='xr-var-item'><div class='xr-var-name'><span class='xr-has-index'>Time</span></div><div class='xr-var-dims'>(Time)</div><div class='xr-var-dtype'>float64</div><div class='xr-var-preview xr-preview'>0.0 2.0 4.0 6.0 ... 96.0 98.0 100.0</div><input id='attrs-b4a38949-a5bf-4ccb-9c02-3e7989ceed71' class='xr-var-attrs-in' type='checkbox' ><label for='attrs-b4a38949-a5bf-4ccb-9c02-3e7989ceed71' title='Show/Hide attributes'><svg class='icon xr-icon-file-text2'><use xlink:href='#icon-file-text2'></use></svg></label><input id='data-e5381673-3604-4efe-9050-ac8f2069b4b0' class='xr-var-data-in' type='checkbox'><label for='data-e5381673-3604-4efe-9050-ac8f2069b4b0' title='Show/Hide data repr'><svg class='icon xr-icon-database'><use xlink:href='#icon-database'></use></svg></label><div class='xr-var-attrs'><dl class='xr-attrs'><dt><span>units :</span></dt><dd>% cycle</dd></dl></div><div class='xr-var-data'><pre>array([  0.,   2.,   4.,   6.,   8.,  10.,  12.,  14.,  16.,  18.,  20.,  22.,\n",
       "        24.,  26.,  28.,  30.,  32.,  34.,  36.,  38.,  40.,  42.,  44.,  46.,\n",
       "        48.,  50.,  52.,  54.,  56.,  58.,  60.,  62.,  64.,  66.,  68.,  70.,\n",
       "        72.,  74.,  76.,  78.,  80.,  82.,  84.,  86.,  88.,  90.,  92.,  94.,\n",
       "        96.,  98., 100.])</pre></div></li><li class='xr-var-item'><div class='xr-var-name'><span class='xr-has-index'>Trial</span></div><div class='xr-var-dims'>(Trial)</div><div class='xr-var-dtype'>int32</div><div class='xr-var-preview xr-preview'>0 1 2 3 4 5 6 7 8 9</div><input id='attrs-69ff0eb5-319d-4ef1-bd81-f8e67ddcf331' class='xr-var-attrs-in' type='checkbox' disabled><label for='attrs-69ff0eb5-319d-4ef1-bd81-f8e67ddcf331' title='Show/Hide attributes'><svg class='icon xr-icon-file-text2'><use xlink:href='#icon-file-text2'></use></svg></label><input id='data-0057d674-b024-46cc-8910-2371ede32872' class='xr-var-data-in' type='checkbox'><label for='data-0057d674-b024-46cc-8910-2371ede32872' title='Show/Hide data repr'><svg class='icon xr-icon-database'><use xlink:href='#icon-database'></use></svg></label><div class='xr-var-attrs'><dl class='xr-attrs'></dl></div><div class='xr-var-data'><pre>array([0, 1, 2, 3, 4, 5, 6, 7, 8, 9], dtype=int32)</pre></div></li><li class='xr-var-item'><div class='xr-var-name'><span class='xr-has-index'>Joint</span></div><div class='xr-var-dims'>(Joint)</div><div class='xr-var-dtype'>object</div><div class='xr-var-preview xr-preview'>&#x27;Pelvis&#x27; &#x27;Hip&#x27; &#x27;Knee&#x27;</div><input id='attrs-0d2b088d-7525-46d6-8389-594daa37c561' class='xr-var-attrs-in' type='checkbox' disabled><label for='attrs-0d2b088d-7525-46d6-8389-594daa37c561' title='Show/Hide attributes'><svg class='icon xr-icon-file-text2'><use xlink:href='#icon-file-text2'></use></svg></label><input id='data-ea9bb105-132a-44aa-af5c-ebdf56b5a775' class='xr-var-data-in' type='checkbox'><label for='data-ea9bb105-132a-44aa-af5c-ebdf56b5a775' title='Show/Hide data repr'><svg class='icon xr-icon-database'><use xlink:href='#icon-database'></use></svg></label><div class='xr-var-attrs'><dl class='xr-attrs'></dl></div><div class='xr-var-data'><pre>array([&#x27;Pelvis&#x27;, &#x27;Hip&#x27;, &#x27;Knee&#x27;], dtype=object)</pre></div></li><li class='xr-var-item'><div class='xr-var-name'><span class='xr-has-index'>Axis</span></div><div class='xr-var-dims'>(Axis)</div><div class='xr-var-dtype'>object</div><div class='xr-var-preview xr-preview'>&#x27;ML&#x27; &#x27;AP&#x27; &#x27;VT&#x27;</div><input id='attrs-01b326a9-65a8-44e3-8f8f-ef8ededc2599' class='xr-var-attrs-in' type='checkbox' disabled><label for='attrs-01b326a9-65a8-44e3-8f8f-ef8ededc2599' title='Show/Hide attributes'><svg class='icon xr-icon-file-text2'><use xlink:href='#icon-file-text2'></use></svg></label><input id='data-d90b5b32-ca92-4e65-9acf-25e3916fea10' class='xr-var-data-in' type='checkbox'><label for='data-d90b5b32-ca92-4e65-9acf-25e3916fea10' title='Show/Hide data repr'><svg class='icon xr-icon-database'><use xlink:href='#icon-database'></use></svg></label><div class='xr-var-attrs'><dl class='xr-attrs'></dl></div><div class='xr-var-data'><pre>array([&#x27;ML&#x27;, &#x27;AP&#x27;, &#x27;VT&#x27;], dtype=object)</pre></div></li></ul></div></li><li class='xr-section-item'><input id='section-11c81326-557a-4c5e-b0f2-63da9dd770d0' class='xr-section-summary-in' type='checkbox'  ><label for='section-11c81326-557a-4c5e-b0f2-63da9dd770d0' class='xr-section-summary' >Indexes: <span>(5)</span></label><div class='xr-section-inline-details'></div><div class='xr-section-details'><ul class='xr-var-list'><li class='xr-var-item'><div class='xr-index-name'><div>Subject</div></div><div class='xr-index-preview'>PandasIndex</div><div></div><input id='index-0b5e5eb9-c98f-4770-843c-0f4d59b70567' class='xr-index-data-in' type='checkbox'/><label for='index-0b5e5eb9-c98f-4770-843c-0f4d59b70567' title='Show/Hide index repr'><svg class='icon xr-icon-database'><use xlink:href='#icon-database'></use></svg></label><div class='xr-index-data'><pre>PandasIndex(Index([&#x27;C02&#x27;, &#x27;C04&#x27;, &#x27;C06&#x27;, &#x27;C07&#x27;, &#x27;C11&#x27;, &#x27;C12&#x27;, &#x27;C14&#x27;, &#x27;C15&#x27;, &#x27;C16&#x27;, &#x27;C23&#x27;,\n",
       "       ...\n",
       "       &#x27;S51&#x27;, &#x27;S53&#x27;, &#x27;S56&#x27;, &#x27;S58&#x27;, &#x27;S59&#x27;, &#x27;S60&#x27;, &#x27;S65&#x27;, &#x27;S68&#x27;, &#x27;S70&#x27;, &#x27;S71&#x27;],\n",
       "      dtype=&#x27;object&#x27;, name=&#x27;Subject&#x27;, length=105))</pre></div></li><li class='xr-var-item'><div class='xr-index-name'><div>Time</div></div><div class='xr-index-preview'>PandasIndex</div><div></div><input id='index-8ca62667-1d72-4d0c-ac5d-eae132d48b60' class='xr-index-data-in' type='checkbox'/><label for='index-8ca62667-1d72-4d0c-ac5d-eae132d48b60' title='Show/Hide index repr'><svg class='icon xr-icon-database'><use xlink:href='#icon-database'></use></svg></label><div class='xr-index-data'><pre>PandasIndex(Index([  0.0,   2.0,   4.0,   6.0,   8.0,  10.0,  12.0,  14.0,  16.0,  18.0,\n",
       "        20.0,  22.0,  24.0,  26.0,  28.0,  30.0,  32.0,  34.0,  36.0,  38.0,\n",
       "        40.0,  42.0,  44.0,  46.0,  48.0,  50.0,  52.0,  54.0,  56.0,  58.0,\n",
       "        60.0,  62.0,  64.0,  66.0,  68.0,  70.0,  72.0,  74.0,  76.0,  78.0,\n",
       "        80.0,  82.0,  84.0,  86.0,  88.0,  90.0,  92.0,  94.0,  96.0,  98.0,\n",
       "       100.0],\n",
       "      dtype=&#x27;float64&#x27;, name=&#x27;Time&#x27;))</pre></div></li><li class='xr-var-item'><div class='xr-index-name'><div>Trial</div></div><div class='xr-index-preview'>PandasIndex</div><div></div><input id='index-018426fd-0b52-4953-ae86-81dcf294d700' class='xr-index-data-in' type='checkbox'/><label for='index-018426fd-0b52-4953-ae86-81dcf294d700' title='Show/Hide index repr'><svg class='icon xr-icon-database'><use xlink:href='#icon-database'></use></svg></label><div class='xr-index-data'><pre>PandasIndex(Index([0, 1, 2, 3, 4, 5, 6, 7, 8, 9], dtype=&#x27;int32&#x27;, name=&#x27;Trial&#x27;))</pre></div></li><li class='xr-var-item'><div class='xr-index-name'><div>Joint</div></div><div class='xr-index-preview'>PandasIndex</div><div></div><input id='index-d0fe36e1-5696-494d-a2a9-79d39ca1ad62' class='xr-index-data-in' type='checkbox'/><label for='index-d0fe36e1-5696-494d-a2a9-79d39ca1ad62' title='Show/Hide index repr'><svg class='icon xr-icon-database'><use xlink:href='#icon-database'></use></svg></label><div class='xr-index-data'><pre>PandasIndex(Index([&#x27;Pelvis&#x27;, &#x27;Hip&#x27;, &#x27;Knee&#x27;], dtype=&#x27;object&#x27;, name=&#x27;Joint&#x27;))</pre></div></li><li class='xr-var-item'><div class='xr-index-name'><div>Axis</div></div><div class='xr-index-preview'>PandasIndex</div><div></div><input id='index-96ea1263-9c44-4ce4-a36c-053910393c88' class='xr-index-data-in' type='checkbox'/><label for='index-96ea1263-9c44-4ce4-a36c-053910393c88' title='Show/Hide index repr'><svg class='icon xr-icon-database'><use xlink:href='#icon-database'></use></svg></label><div class='xr-index-data'><pre>PandasIndex(Index([&#x27;ML&#x27;, &#x27;AP&#x27;, &#x27;VT&#x27;], dtype=&#x27;object&#x27;, name=&#x27;Axis&#x27;))</pre></div></li></ul></div></li><li class='xr-section-item'><input id='section-0753cf5b-98fc-4898-9d74-476172b7b4db' class='xr-section-summary-in' type='checkbox'  checked><label for='section-0753cf5b-98fc-4898-9d74-476172b7b4db' class='xr-section-summary' >Attributes: <span>(1)</span></label><div class='xr-section-inline-details'></div><div class='xr-section-details'><dl class='xr-attrs'><dt><span>units :</span></dt><dd>deg</dd></dl></div></li></ul></div></div>"
      ],
      "text/plain": [
       "<xarray.DataArray 'Angle' (Time: 51, Joint: 3, Axis: 3, Trial: 10, Subject: 105)> Size: 4MB\n",
       "[481950 values with dtype=float64]\n",
       "Coordinates:\n",
       "  * Subject  (Subject) object 840B 'C02' 'C04' 'C06' 'C07' ... 'S68' 'S70' 'S71'\n",
       "  * Time     (Time) float64 408B 0.0 2.0 4.0 6.0 8.0 ... 94.0 96.0 98.0 100.0\n",
       "  * Trial    (Trial) int32 40B 0 1 2 3 4 5 6 7 8 9\n",
       "  * Joint    (Joint) object 24B 'Pelvis' 'Hip' 'Knee'\n",
       "  * Axis     (Axis) object 24B 'ML' 'AP' 'VT'\n",
       "Attributes:\n",
       "    units:    deg"
      ]
     },
     "metadata": {},
     "output_type": "display_data"
    }
   ],
   "source": [
    "path2 = Path('./../data/')\n",
    "metadata, da = read_data(path2, fname='ERJ_T00', variable=variable)\n",
    "display(da)"
   ]
  },
  {
   "cell_type": "markdown",
   "metadata": {
    "id": "xZW3lBqPbJwv"
   },
   "source": [
    "#### GPS calculation"
   ]
  },
  {
   "cell_type": "code",
   "execution_count": 8,
   "metadata": {
    "colab": {
     "base_uri": "https://localhost:8080/",
     "height": 999
    },
    "id": "6ffs47GNbJwv",
    "outputId": "97e61803-a504-457c-c6da-7bf8d3f06a88"
   },
   "outputs": [
    {
     "name": "stderr",
     "output_type": "stream",
     "text": [
      "/home/marcos/miniconda3/lib/python3.12/site-packages/numpy/lib/_nanfunctions_impl.py:1650: RuntimeWarning: All-NaN slice encountered\n",
      "  return fnb._ureduce(a,\n"
     ]
    },
    {
     "data": {
      "image/png": "[encoded data removed]",
      "text/plain": [
       "<Figure size 1200x500 with 10 Axes>"
      ]
     },
     "metadata": {},
     "output_type": "display_data"
    }
   ],
   "source": [
    "da2 = da.dropna(dim='Subject', how='all').reduce(np.nanquantile, q=.5, dim='Trial') #da.reduce(np.nanmean, dim='Trial')\n",
    "gvs, gvs_m, gvs_std = gps_calc(da2, metadata, labels_gps)\n",
    "plot_gps(gvs, gvs_m, gvs_std, metadata, path2, hist=True, MAP=False)"
   ]
  },
  {
   "cell_type": "code",
   "execution_count": 9,
   "metadata": {},
   "outputs": [
    {
     "data": {
      "image/png": "[encoded data removed]",
      "text/plain": [
       "<Figure size 600x400 with 1 Axes>"
      ]
     },
     "metadata": {},
     "output_type": "display_data"
    }
   ],
   "source": [
    "plot_gps(gvs, gvs_m, gvs_std, metadata, path2, hist=False, MAP=True)"
   ]
  },
  {
   "cell_type": "code",
   "execution_count": null,
   "metadata": {},
   "outputs": [],
   "source": []
  }
 ],
 "metadata": {
  "colab": {
   "include_colab_link": true,
   "provenance": []
  },
  "hide_input": false,
  "kernelspec": {
   "display_name": "Python 3 (ipykernel)",
   "language": "python",
   "name": "python3"
  },
  "language_info": {
   "codemirror_mode": {
    "name": "ipython",
    "version": 3
   },
   "file_extension": ".py",
   "mimetype": "text/x-python",
   "name": "python",
   "nbconvert_exporter": "python",
   "pygments_lexer": "ipython3",
   "version": "3.12.7"
  },
  "nbTranslate": {
   "displayLangs": [
    "*"
   ],
   "hotkey": "alt-t",
   "langInMainMenu": true,
   "sourceLang": "en",
   "targetLang": "fr",
   "useGoogleTranslate": true
  },
  "toc": {
   "base_numbering": 1,
   "nav_menu": {},
   "number_sections": true,
   "sideBar": true,
   "skip_h1_title": true,
   "title_cell": "Contents",
   "title_sidebar": "Contents",
   "toc_cell": true,
   "toc_position": {},
   "toc_section_display": true,
   "toc_window_display": false
  },
  "varInspector": {
   "cols": {
    "lenName": 16,
    "lenType": 16,
    "lenVar": 40
   },
   "kernels_config": {
    "python": {
     "delete_cmd_postfix": "",
     "delete_cmd_prefix": "del ",
     "library": "var_list.py",
     "varRefreshCmd": "print(var_dic_list())"
    },
    "r": {
     "delete_cmd_postfix": ") ",
     "delete_cmd_prefix": "rm(",
     "library": "var_list.r",
     "varRefreshCmd": "cat(var_dic_list()) "
    }
   },
   "types_to_exclude": [
    "module",
    "function",
    "builtin_function_or_method",
    "instance",
    "_Feature"
   ],
   "window_display": false
  }
 },
 "nbformat": 4,
 "nbformat_minor": 4
}
